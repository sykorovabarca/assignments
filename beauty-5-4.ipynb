{
 "cells": [
  {
   "cell_type": "markdown",
   "metadata": {},
   "source": [
    "# Python assignment: Analysis of the Cognitive Hierarchy Model\n",
    "\n",
    "\n",
    "|Name|ANR.|\n",
    "|----|-------|\n",
    "|Barča Sýkorová|740631|\n",
    "|Kalle Sølvsteen|175346|\n",
    "\n",
    "## Introduction\n",
    "Economics is about exchanges and interactions. Some of these dynamics are possibly captured through market interactions. But more fundamentally we are trying to capture how people interact directly. There are many facets that affect direct communication such as emotion, facial expression, predjudices and more. \n",
    "\n",
    "A particular facet of interaction is strategy and strategic behavior. To uncover strategic behavior (this entails predicting what others might do in given situation) a beauty contest is an instrument that can be used.\n",
    "\n",
    "[inspired by Chapter 6, *Behavioral Economics*, Edward Cartwright, 2014]\n",
    "\n",
    "### The Game\n",
    "The beauty contest game originated from a game where the goal was to try to determine which face is concidered the most beautifull on average. But it has evolved into a game that is a guessing game, the **p-Beauty Contest**. The goal of the game is to guess \n",
    "\n",
    "$$ Guess= p * [Average(n)]\\,with\\,n \\in [0,100]$$\n",
    "\n",
    "P can have many values but in our game it is\n",
    "\n",
    "$$ p = \\frac{2}{3} $$.\n",
    "\n",
    "In other words, the best guess is the average guess of the others. There are multiple ways to predict how people will determine their optimal guess. But in this notebook we will explore the __Cognitive Hierarchy Model__.\n",
    "\n",
    "<img src=\"http://media.zenfs.com/en_us/News/ap_webfeeds/264675924bd9ed223f0f6a7067000a5b.jpg\" width=\"300\" height=\"300\">\n",
    "\n",
    "### Cognitive Hierarchy Model\n",
    "\n",
    "The __Cognitive Hierarchy Model (CHM)__ was developed by [Camerer et al. (2004)](http://people.hss.caltech.edu/~camerer/NYU/06-CamererHoChong.pdf). The inspiration for our setup comes from the book Behavioral Economics by Edward Cartwright (2014). \n",
    "\n",
    "The model is evolved from level-k thinking. Level-k thinking is a way of strategic optimizing people can use to maximize their expected payoff. It is however not that suffisticated in that it expects everyone else to be one level below them. To clarify, if you're level-1 you will maximize your payoff based on the idea that the rest is level-0 and will choose randomly. \n",
    "\n",
    "The cognitive hierarchy model builds on this aidea and makes the spread of people, and what they belief the spread to be more suffisticated. It builds on the idea that people with a higher Cognition level (C(k), k = level) will guess proportions of people in every cognitive level below them. The Model starts with people L-0 & L-1's like in normal level-k thinking (so everyone is 1 level below the player), but then we go to levels C-2, C-3, ... C-k. The formula for the actuall distribution of people is a poisson distribution. From this players derive the proportion which they expect to be in each level. \n",
    "\n",
    "**To clarify this:**\n",
    "The evolution of the levels and types\n",
    "\n",
    "|Levels|Type|\n",
    "|----|----|\n",
    "|L-0|L-0|\n",
    "|L-1|L-1|\n",
    "|L-2|C-2|\n",
    "|L-3|C-3|\n",
    "|...|...|\n",
    "|L-k|C-k|\n",
    "\n",
    "The Poisson distrution for all levels of cognition\n",
    "\n",
    " $$ f(k) = \\frac{e^{-\\tau} * \\tau^\\kappa}{k!}$$\n",
    "\n",
    "|     Symbol      | Definition                            |\n",
    "|:---------------:|---------------------------------------|\n",
    "|     $\\tau$      | factor that controls variation         |\n",
    "|     $\\kappa$| The cognitive level of a player |\n",
    "| $f(k)$| Proportion of people in that level-k|\n",
    "\n",
    "\n",
    "So if you were to be a C(2) thinker you would expect a proportion to be level-0 and a proportion level-1. To calculate this you have the total amount of people:\n",
    "\n",
    "$$ F(1)=f(0)+f(1) $$.\n",
    "\n",
    "Hence the proportion of people in level 0 and level 1 according to a C-2 thinker would be:\n",
    "\n",
    "$$ L(0)= \\frac{f(0)}{F(1)} $$ $$ L(1)=\\frac{f(1)}{F(1)} $$.\n",
    "\n",
    "#### Nash equilibrium\n",
    "\n",
    "### Goal\n",
    "Firstly we aim to model the **CHM** and uncover its dynamics for different values of the factor tau. It will become clear that tau affects the distribution of people in cognitive levels. Subsequently we will show graphically what that means for the development of the average guess, the guess per level-k, for the relative frequency of people making guesses. \n",
    "\n",
    "Secondly, we will try to see if the model offers a good prediction of a beauty contest game played in pairs by students at the University of Economics in Prague. We have data for 2 games. ! game was played in pairs, and 1 game was supposedly played by individuals. \n",
    "**To determine if the model fits, we will try to adjust tau levels so that the predicted average guess level is close to the average guess in the actuall game. Then we will create bins around the predicted guess values to see if people guessed according tot the predicted values**. \n",
    "\n",
    "### Assumptions\n",
    "Before we can start modelling it is important to show that we have multiple assumptions regarding the behavior of the peole.\n",
    "* We assume level-0 players to play random. So the expected value is 50\n",
    "* We assume everyone to be of a certain Cognitive Level [C(k] when trying to capture the correct version of tau \n",
    "* Everyone above k-level 7 chooses the same of level 8. We assume a limitation of people. \n",
    "* People are semi sophisticated, they fail to recognize that people are of a higher C-k than they are. "
   ]
  },
  {
   "cell_type": "markdown",
   "metadata": {},
   "source": [
    "## Model Dynamics\n",
    "\n",
    "First we plot the amount of people at each different cognitive level for different values of tau. \n",
    "\n",
    "<p><img src=\"Prop_people_cogn.png\" width=400 height=400></p>\n",
    "\n",
    "It becomes clear that lower values of tau indicate a higher proportion of people in lower levels, whereas higher versions of tau spread the number to higher cognitive levels. As we will see this affects the  size of the predicted guesses as well. \n",
    "\n",
    "As the distribution of people has an effect on chosen values it will have a big impact on how the model fits the data later. **It will therefore be important to see what level of tau gives the closest fit when it comes to getting the average. Also it is important to note that if tau is very high, there will be more people with higher k.**\n",
    "\n",
    "<p><img src=\"size_predict_guess.png\" width=400 height=400></p>\n",
    "\n",
    "We see that for higher levels of tau the predicted guess gets lower. Remember that the guess is (2/3) of the average guess. The decline in expected guess is logical considering the anticipation of lower guesses. Since a higher proportion of people are in a higher level as could be seen in the graph \"The proportion of people at each cognitive level.png\", it is logical that this will affect the average more negatively, thus decreasing the value of the predicted guess. \n",
    "\n",
    "Another important note is that the values of the guesses stabilize quicker when the value of tau is low. So if you happen to play in a game where the distribution is with a low tau you don't need a high cognitive level to get the right (predicted) guess, whereas with higher taus the 'lower' cognitive levels (i.e. c-3) will guess wrong. \n",
    "\n",
    "This comes from the different spread of people and consequently their guesses\n",
    "\n",
    "<p><img src=\"guess_tau.png\" width=400 height=400></p>\n",
    "If we now look at the graph for the mean values of tau we find the same trend. The values are higher but that is because it is not multiplied by (2/3). \n",
    "\n",
    "<p><img src=\"mean_val_tau.png\" width=400 height=400></p>\n",
    "\n",
    "Before analyzing the data, it is good to check the relative distribution for different levels of tau.\n",
    "\n",
    "<p><img src='rel_freq_guess.png' width=400 height=400></p>\n",
    "\n",
    "#### Creating Bins\n",
    "This picture offers an insight into the predicted values of the guesses for the different levels of tau. These values are important since this offers us the opportunity to see whether people actually chose something similar and thereby we can see whether they follow the cognitive hierarchy predictions. \n",
    "\n",
    "To see how wel the data fits into the predictions we create bins around the predicted values with an error of plus or minus 1 allowed. For most if not all levels of tau, this means that the bins will overlap from predictions for C-3 onwards. Therefore the bins that will be created for multiple of levels of tau will only go up to C-3 and this bin will include all bins onward (so the values that would have been included in the bins upto bin C-k). \n",
    "\n",
    "The result is that for higher levels of tau the range that is covered is bigger since the change in guessed value is bigger. This can easily be deducted from the graph above for **\"The size of the predicted guesses for different cognitive levels\"**. "
   ]
  },
  {
   "cell_type": "markdown",
   "metadata": {},
   "source": [
    "## Analysis of the Data\n",
    "\n",
    "<p><img src= \"Guess_Distr.png\" width=400 heigth=400></p>\n",
    "\n",
    "We see that the distribution of this game is fairly skewed to the low end. This would indicate that there is a need for a higher tau to fit the data. If we look at the value of the average guess (**Pair_guess_value    19.765432**) and the average guess generated and displayed in the graph *\"Mean guess value for different tau\"* we see that tau should not be much higher than *tau = 4*.\n",
    "\n",
    "<p><img src= \"Guess_distr_pair.png\" width=400 heigth=400></p>\n",
    "For the game played by individuals it seems seems that the spread of peoples choices stays higher for this game. This also follows from the correct guess for this game yields **Individual_guess_value = 24.889286**. This indicates that a lower tau is needed to fit the data the best. But we will see that it does not really matter what value is chosen.\n",
    "\n"
   ]
  },
  {
   "cell_type": "markdown",
   "metadata": {},
   "source": [
    "\n",
    "### Bins & Fit\n",
    "As mentioned above the bins were created around the values as predicted by the model. An example of bin creation for tau=3\n",
    "\n",
    "<p><img src=\"bin3.png\"></p>\n",
    "\n",
    "The values of the guesses made in the games were subsequently tested and counted when they fitted into a bin. This was done for multiple levels of tau (up till tau = 3) This resulted in the following tables for the pair_guess game and the individual_guess game:\n",
    "* <p><img src=\"Pair_table.png\"></p>\n",
    "* <p><img src=\"individual_table.png\"></p>\n",
    "\n",
    "### Chi-2 tests\n",
    "To test if the peope in the games actually followed the predicted values by the CHM a Chisquare test was performed. The chisquare test was done until levels of tau=3. This was due to some constraints in the binning method that was described earlier. \n",
    "\n",
    "The outcome of the tests were allstatitistically significant from zero. This means in this case that the predicted spread does not match with the actual choice of the people. \n",
    "\n",
    "We do however see that the individuals guess more in line with the CHM than the pairs do (for tau=3)."
   ]
  },
  {
   "cell_type": "markdown",
   "metadata": {},
   "source": [
    "\n",
    "## Conclusions\n",
    "Firstly, we have managed to show the dynamics of the model. The development of different facets of the game as a consequence of tau. Secondly, we have managed to show that the data does not show the model. There could be many explanations for this and the model should not completely be written off based on this mismatch. But this falls outside the scope of this notebook\n",
    "\n",
    "Yet, it must be noted that the distributions of guesses are clearly different between the individuals and the teams. This is already clear upon initial observation of the data spread and confirmed by the means from each game. The difference in means also means that the tau should be different in the CHM model. \n"
   ]
  },
  {
   "cell_type": "markdown",
   "metadata": {},
   "source": [
    "## Discussion & Limitations\n",
    "To get the best approximation the data with the model it would be preferable to get an approximation of tau with a function that does something similar as excel's goal seek. Another limitation from this is that we can only visually approximate what tau should be to match the mean of the game data. \n",
    "\n",
    "Another limitation is that from the levels of tau=4, the bin that covers c-3 to c-k stops to overlap. Therefore we can only test until levels of tau-3. It does hoever not seem like the model fits (any) better for higher levels of tau. \n",
    "\n",
    "An additional limitation is that we did not manage to sum the people that were predicted to be in higher cognitive level into 1 value in the array used in the exp_obs_array_i(i) function. This has no big consequences for tests with lower tau, but when the tau gets higher more people will be left out. \n"
   ]
  },
  {
   "cell_type": "markdown",
   "metadata": {},
   "source": [
    "# The Notebook"
   ]
  },
  {
   "cell_type": "code",
   "execution_count": 2,
   "metadata": {
    "collapsed": true,
    "scrolled": true
   },
   "outputs": [],
   "source": [
    "#Import Packages\n",
    "import pandas as pd\n",
    "import numpy as np\n",
    "import scipy as sp\n",
    "from scipy.stats import chisquare\n",
    "import matplotlib.pyplot as plt\n",
    "from math import factorial\n",
    "from math import exp\n",
    "import scipy\n",
    "import statsmodels"
   ]
  },
  {
   "cell_type": "code",
   "execution_count": 3,
   "metadata": {},
   "outputs": [
    {
     "name": "stdout",
     "output_type": "stream",
     "text": [
      "[0.36787944117144233, 0.36787944117144233, 0.18393972058572117, 0.06131324019524039, 0.015328310048810098, 0.0030656620097620196, 0.0005109436682936699, 7.299195261338141e-05, 1.0249196674694261e-05]\n"
     ]
    }
   ],
   "source": [
    "#this function gives us the distribution of people for different levels \n",
    "#of tau. Together1 is the people are left out. \n",
    "def fraction_together(tau):\n",
    "    def Poisson_distribution(k):\n",
    "        #distribution of C-k types according to beliefs of other players\n",
    "        distribution = (exp(-tau))*(tau**k)/(factorial(k))\n",
    "        return distribution\n",
    "    fractionC0 = Poisson_distribution(0)\n",
    "    fractionC1 = Poisson_distribution(1)\n",
    "    fractionC2= Poisson_distribution(2)\n",
    "    fractionC3= Poisson_distribution(3)\n",
    "    fractionC4= Poisson_distribution(4)\n",
    "    fractionC5= Poisson_distribution(5)\n",
    "    fractionC6= Poisson_distribution(6)\n",
    "    fractionC7= Poisson_distribution(7)\n",
    "    together = [fractionC0, fractionC1, fractionC2, fractionC3,fractionC4, fractionC5,fractionC6,fractionC7]\n",
    "    fraction_remain = 1-sum(together)\n",
    "    together1 =  [fractionC0, fractionC1, fractionC2, fractionC3,fractionC4, fractionC5,fractionC6,fractionC7, fraction_remain]\n",
    "    return together1\n",
    "print(fraction_together(1))"
   ]
  },
  {
   "cell_type": "markdown",
   "metadata": {},
   "source": [
    "### Distribution levels for different tau"
   ]
  },
  {
   "cell_type": "code",
   "execution_count": 4,
   "metadata": {},
   "outputs": [
    {
     "data": {
      "image/png": "[encoded data removed]",
      "text/plain": [
       "<matplotlib.figure.Figure at 0x10fc41c88>"
      ]
     },
     "metadata": {},
     "output_type": "display_data"
    }
   ],
   "source": [
    "# Here we define the function for different levels of fraction together\n",
    "# for different levels of tau\n",
    "tau05 = fraction_together(0.5)\n",
    "tau1 = fraction_together(1)\n",
    "tau15 = fraction_together(1.5)\n",
    "tau2 = fraction_together(2)\n",
    "tau4 = fraction_together(4)\n",
    "tau=[tau05,tau1,tau15,tau2]\n",
    "\n",
    "\n",
    "# Added collor coding for readability \n",
    "plt.plot(tau05, \"r^-\", label=\"tau = 0.5\")\n",
    "plt.plot(tau1, \"bo-\", label=\"tau = 1\")\n",
    "plt.plot(tau15, \"gd-\", label=\"tau = 1.5\")\n",
    "plt.plot(tau2, \"yo-\", label=\"tau = 2\")\n",
    "plt.plot(tau4, 'ro-', label=\"tau = 4\")\n",
    "plt.legend()\n",
    "plt.xlabel(\"C-k levels\")\n",
    "plt.ylabel(\"Proportion of people\")\n",
    "plt.title(\"The proportion of people at each cognitive level\")\n",
    "plt.savefig(\"Prop_people_cogn\")\n",
    "plt.show()\n",
    "\n",
    "\n",
    "\n"
   ]
  },
  {
   "cell_type": "code",
   "execution_count": 5,
   "metadata": {},
   "outputs": [
    {
     "data": {
      "text/html": [
       "<div>\n",
       "<style>\n",
       "    .dataframe thead tr:only-child th {\n",
       "        text-align: right;\n",
       "    }\n",
       "\n",
       "    .dataframe thead th {\n",
       "        text-align: left;\n",
       "    }\n",
       "\n",
       "    .dataframe tbody tr th {\n",
       "        vertical-align: top;\n",
       "    }\n",
       "</style>\n",
       "<table border=\"1\" class=\"dataframe\">\n",
       "  <thead>\n",
       "    <tr style=\"text-align: right;\">\n",
       "      <th></th>\n",
       "      <th>C0</th>\n",
       "      <th>C1</th>\n",
       "      <th>C2</th>\n",
       "      <th>C3</th>\n",
       "      <th>C4</th>\n",
       "      <th>C5</th>\n",
       "      <th>C6</th>\n",
       "      <th>C7</th>\n",
       "      <th>Ck</th>\n",
       "    </tr>\n",
       "  </thead>\n",
       "  <tbody>\n",
       "    <tr>\n",
       "      <th>0</th>\n",
       "      <td>0.606531</td>\n",
       "      <td>0.303265</td>\n",
       "      <td>0.075816</td>\n",
       "      <td>0.012636</td>\n",
       "      <td>0.001580</td>\n",
       "      <td>0.000158</td>\n",
       "      <td>0.000013</td>\n",
       "      <td>9.401827e-07</td>\n",
       "      <td>6.219691e-08</td>\n",
       "    </tr>\n",
       "    <tr>\n",
       "      <th>1</th>\n",
       "      <td>0.367879</td>\n",
       "      <td>0.367879</td>\n",
       "      <td>0.183940</td>\n",
       "      <td>0.061313</td>\n",
       "      <td>0.015328</td>\n",
       "      <td>0.003066</td>\n",
       "      <td>0.000511</td>\n",
       "      <td>7.299195e-05</td>\n",
       "      <td>1.024920e-05</td>\n",
       "    </tr>\n",
       "    <tr>\n",
       "      <th>2</th>\n",
       "      <td>0.223130</td>\n",
       "      <td>0.334695</td>\n",
       "      <td>0.251021</td>\n",
       "      <td>0.125511</td>\n",
       "      <td>0.047067</td>\n",
       "      <td>0.014120</td>\n",
       "      <td>0.003530</td>\n",
       "      <td>7.564262e-04</td>\n",
       "      <td>1.695657e-04</td>\n",
       "    </tr>\n",
       "    <tr>\n",
       "      <th>3</th>\n",
       "      <td>0.135335</td>\n",
       "      <td>0.270671</td>\n",
       "      <td>0.270671</td>\n",
       "      <td>0.180447</td>\n",
       "      <td>0.090224</td>\n",
       "      <td>0.036089</td>\n",
       "      <td>0.012030</td>\n",
       "      <td>3.437087e-03</td>\n",
       "      <td>1.096719e-03</td>\n",
       "    </tr>\n",
       "  </tbody>\n",
       "</table>\n",
       "</div>"
      ],
      "text/plain": [
       "         C0        C1        C2        C3        C4        C5        C6  \\\n",
       "0  0.606531  0.303265  0.075816  0.012636  0.001580  0.000158  0.000013   \n",
       "1  0.367879  0.367879  0.183940  0.061313  0.015328  0.003066  0.000511   \n",
       "2  0.223130  0.334695  0.251021  0.125511  0.047067  0.014120  0.003530   \n",
       "3  0.135335  0.270671  0.270671  0.180447  0.090224  0.036089  0.012030   \n",
       "\n",
       "             C7            Ck  \n",
       "0  9.401827e-07  6.219691e-08  \n",
       "1  7.299195e-05  1.024920e-05  \n",
       "2  7.564262e-04  1.695657e-04  \n",
       "3  3.437087e-03  1.096719e-03  "
      ]
     },
     "execution_count": 5,
     "metadata": {},
     "output_type": "execute_result"
    }
   ],
   "source": [
    "#this gives a nice indication of the spread of people for each level of tau\n",
    "tau_names = [\"C0\", \"C1\", \"C2\", \"C3\", \"C4\", \"C5\", \"C6\", \"C7\", \"Ck\"]\n",
    "tau_levels = [\"tau = 0.5\", \"tau = 1\", \"tau = 1.5\", \"tau = 2\"]\n",
    "tau = pd.DataFrame(tau, columns = tau_names)\n",
    "tau"
   ]
  },
  {
   "cell_type": "markdown",
   "metadata": {},
   "source": [
    "#### Analyzing the distribution\n",
    "We see that for different tau levels the distribution changes quite dramatically. This has a huge impact of how the model fits the data later. It will therefore be important to see what level of tau gives the closest fit when it comes to getting the average. Also it is important to note that if tau is very high, there will be more people with higher k. \n",
    "\n",
    "We however make the assumption that for some levels of k higher than 8 is not possible. "
   ]
  },
  {
   "cell_type": "code",
   "execution_count": 6,
   "metadata": {
    "collapsed": true
   },
   "outputs": [],
   "source": [
    "def cognitive_type_guess(k, tau=2, max=100, min=0, x=2/3):\n",
    "    #typical guess of C-k level type\n",
    "    def Poisson_distribution(p):   \n",
    "        distribution = (exp(-tau))*(tau**p)/(factorial(p))\n",
    "        return distribution   \n",
    "    fractionC0 = Poisson_distribution(0)\n",
    "    fractionC1 = Poisson_distribution(1)\n",
    "    fractionC2 = Poisson_distribution(2)\n",
    "    fractionC3 = Poisson_distribution(3)\n",
    "    fractionC4 = Poisson_distribution(4)\n",
    "    fractionC5 = Poisson_distribution(5)\n",
    "    fractionC6= Poisson_distribution(6)\n",
    "    fractionC7= Poisson_distribution(7)\n",
    "    together = [fractionC0, fractionC1, fractionC2, fractionC3,fractionC4, fractionC5,fractionC6,fractionC7]\n",
    "    fraction_remain = 1-sum(together)\n",
    "    fraction_together = [fractionC0, fractionC1, fractionC2, fractionC3,fractionC4, fractionC5, fractionC6, fractionC7, fraction_remain]   \n",
    "    def belief_suma(k):\n",
    "        #Calculating beliefs of k-type\n",
    "        suma = sum(fraction_together[0:(k)])\n",
    "        return suma\n",
    "    guess0 = np.mean([max,min])\n",
    "    guess1 = guess0 * x\n",
    "    guess2 = x *(guess0 * fraction_together[0]/belief_suma(2) + guess1 * fraction_together[1]/belief_suma(2))\n",
    "    guess3 = x *(guess0 * fraction_together[0]/belief_suma(3) + guess1 * fraction_together[1]/belief_suma(3)+ guess2 * fraction_together[2]/belief_suma(3))\n",
    "    guess4 = x *(guess0 * fraction_together[0]/belief_suma(4) + guess1 * fraction_together[1]/belief_suma(4)+ guess2 * fraction_together[2]/belief_suma(4) + guess3 * fraction_together[3]/belief_suma(4))\n",
    "    guess5 = x *(guess0 * fraction_together[0]/belief_suma(5) + guess1 * fraction_together[1]/belief_suma(5)+ guess2 * fraction_together[2]/belief_suma(5) + guess3 * fraction_together[3]/belief_suma(5) + guess4 * fraction_together[4]/belief_suma(5))\n",
    "    guess6 = x *(guess0 * fraction_together[0]/belief_suma(6) + guess1 * fraction_together[1]/belief_suma(6)+ guess2 * fraction_together[2]/belief_suma(6) + guess3 * fraction_together[3]/belief_suma(6) + guess4 * fraction_together[4]/belief_suma(6) + guess5 * fraction_together[5]/belief_suma(6))\n",
    "    guess7 = x *(guess0 * fraction_together[0]/belief_suma(7) + guess1 * fraction_together[1]/belief_suma(7)+ guess2 * fraction_together[2]/belief_suma(7) + guess3 * fraction_together[3]/belief_suma(7) + guess4 * fraction_together[4]/belief_suma(7) + guess5 * fraction_together[5]/belief_suma(7) +guess6 * fraction_together[6]/belief_suma(7))\n",
    "    guessk = guess7\n",
    "    guess = [guess0, guess1, guess2, guess3, guess4, guess5, guess6, guess7, guessk]\n",
    "    guess_k = guess[k]\n",
    "    return guess_k"
   ]
  },
  {
   "cell_type": "markdown",
   "metadata": {},
   "source": [
    "### Plotting the guesses by people with different cognitive levels"
   ]
  },
  {
   "cell_type": "code",
   "execution_count": 7,
   "metadata": {
    "collapsed": true
   },
   "outputs": [],
   "source": [
    "def cognitive_level(tau, max=100, min=0): #the guesses for different levels k and adjustable for tau\n",
    "    C0 = np.mean([max,min])\n",
    "    C1 = cognitive_type_guess(1,tau)\n",
    "    C2 = cognitive_type_guess(2,tau)\n",
    "    C3 = cognitive_type_guess(3,tau)\n",
    "    C4 = cognitive_type_guess(4,tau)\n",
    "    C5 = cognitive_type_guess(5,tau)\n",
    "    C6 = cognitive_type_guess(6,tau)\n",
    "    C7 = cognitive_type_guess(7,tau)\n",
    "    Ck = cognitive_type_guess(7,tau)\n",
    "    C = [C0,C1,C2,C3,C4,C5,C6,C7, Ck]\n",
    "    return C"
   ]
  },
  {
   "cell_type": "code",
   "execution_count": 8,
   "metadata": {},
   "outputs": [
    {
     "data": {
      "image/png": "[encoded data removed]",
      "text/plain": [
       "<matplotlib.figure.Figure at 0x111ebfa90>"
      ]
     },
     "metadata": {},
     "output_type": "display_data"
    }
   ],
   "source": [
    "guess_tau05 = cognitive_level(0.5)#creation of the plot that describes the guesses for different levels of k and tau\n",
    "guess_tau1 = cognitive_level(1)\n",
    "guess_tau15 = cognitive_level(1.5)\n",
    "guess_tau2 = cognitive_level(2)\n",
    "guess_tau4 = cognitive_level(4)\n",
    "guess_tau10 = cognitive_level(10)\n",
    "\n",
    "plt.plot(guess_tau05[1:], \"r^-\", label=\"tau = 0.5\")\n",
    "plt.plot(guess_tau1[1:], \"bo-\", label=\"tau = 1\")\n",
    "plt.plot(guess_tau15[1:], \"gd-\", label=\"tau = 1.5\")\n",
    "plt.plot(guess_tau2[1:], \"yo-\", label=\"tau = 2\")\n",
    "plt.plot(guess_tau4[1:], 'rd-', label=\"tau = 4\")\n",
    "plt.plot(guess_tau10[1:], 'g^-', label=\"tau = 10\")\n",
    "plt.legend()\n",
    "plt.xlabel(\"C-k levels (0 = level-1)\")\n",
    "plt.ylabel(\"Size, of the predicted guess\")\n",
    "plt.title(\"The size of the predicted guesses for different cognitive levels\")\n",
    "plt.savefig(\"size_predict_guess\") \n",
    "plt.show()\n"
   ]
  },
  {
   "cell_type": "markdown",
   "metadata": {},
   "source": [
    "We see that guesses stabilize the further one goes towards the end of the curve."
   ]
  },
  {
   "cell_type": "code",
   "execution_count": 9,
   "metadata": {
    "scrolled": false
   },
   "outputs": [
    {
     "data": {
      "text/html": [
       "<div>\n",
       "<style>\n",
       "    .dataframe thead tr:only-child th {\n",
       "        text-align: right;\n",
       "    }\n",
       "\n",
       "    .dataframe thead th {\n",
       "        text-align: left;\n",
       "    }\n",
       "\n",
       "    .dataframe tbody tr th {\n",
       "        vertical-align: top;\n",
       "    }\n",
       "</style>\n",
       "<table border=\"1\" class=\"dataframe\">\n",
       "  <thead>\n",
       "    <tr style=\"text-align: right;\">\n",
       "      <th></th>\n",
       "      <th>C-k level</th>\n",
       "      <th>guess</th>\n",
       "      <th>proportion</th>\n",
       "    </tr>\n",
       "  </thead>\n",
       "  <tbody>\n",
       "    <tr>\n",
       "      <th>0</th>\n",
       "      <td>C0</td>\n",
       "      <td>50.000000</td>\n",
       "      <td>0.002479</td>\n",
       "    </tr>\n",
       "    <tr>\n",
       "      <th>1</th>\n",
       "      <td>C1</td>\n",
       "      <td>33.333333</td>\n",
       "      <td>0.014873</td>\n",
       "    </tr>\n",
       "    <tr>\n",
       "      <th>2</th>\n",
       "      <td>C2</td>\n",
       "      <td>23.809524</td>\n",
       "      <td>0.044618</td>\n",
       "    </tr>\n",
       "    <tr>\n",
       "      <th>3</th>\n",
       "      <td>C3</td>\n",
       "      <td>18.095238</td>\n",
       "      <td>0.089235</td>\n",
       "    </tr>\n",
       "    <tr>\n",
       "      <th>4</th>\n",
       "      <td>C4</td>\n",
       "      <td>14.535519</td>\n",
       "      <td>0.133853</td>\n",
       "    </tr>\n",
       "    <tr>\n",
       "      <th>5</th>\n",
       "      <td>C5</td>\n",
       "      <td>12.260394</td>\n",
       "      <td>0.160623</td>\n",
       "    </tr>\n",
       "    <tr>\n",
       "      <th>6</th>\n",
       "      <td>C6</td>\n",
       "      <td>10.787511</td>\n",
       "      <td>0.160623</td>\n",
       "    </tr>\n",
       "    <tr>\n",
       "      <th>7</th>\n",
       "      <td>C7</td>\n",
       "      <td>9.834893</td>\n",
       "      <td>0.137677</td>\n",
       "    </tr>\n",
       "    <tr>\n",
       "      <th>8</th>\n",
       "      <td>Ck</td>\n",
       "      <td>9.834893</td>\n",
       "      <td>0.256020</td>\n",
       "    </tr>\n",
       "  </tbody>\n",
       "</table>\n",
       "</div>"
      ],
      "text/plain": [
       "  C-k level      guess  proportion\n",
       "0        C0  50.000000    0.002479\n",
       "1        C1  33.333333    0.014873\n",
       "2        C2  23.809524    0.044618\n",
       "3        C3  18.095238    0.089235\n",
       "4        C4  14.535519    0.133853\n",
       "5        C5  12.260394    0.160623\n",
       "6        C6  10.787511    0.160623\n",
       "7        C7   9.834893    0.137677\n",
       "8        Ck   9.834893    0.256020"
      ]
     },
     "execution_count": 9,
     "metadata": {},
     "output_type": "execute_result"
    }
   ],
   "source": [
    "def beauty_table(tau): #this function gives returns the proportion of people in the different cognitive guesses and their guess\n",
    "    guess = cognitive_level(tau)\n",
    "    fraction = fraction_together(tau)             \n",
    "    beauty_game = [(\"C-k level\",tau_names),\n",
    "                  (\"guess\", guess),\n",
    "                   (\"proportion\", fraction),\n",
    "                  ]\n",
    "    table = pd.DataFrame.from_items(beauty_game)\n",
    "    return table\n",
    "\n",
    "beautytable1 = beauty_table(1)\n",
    "beautytable15 = beauty_table(1.5)\n",
    "beautytable2 = beauty_table(2)\n",
    "beautytable25 = beauty_table(2.5)\n",
    "beautytable3 = beauty_table(3) \n",
    "beautytable4 = beauty_table(4)  \n",
    "beautytable5 = beauty_table(5) #the proportion of people in higher cognitive levels goes up a lot\n",
    "beautytable6 = beauty_table(6)\n",
    "beautytable7 = beauty_table(7)\n",
    "beautytable10 = beauty_table(10)\n",
    "\n",
    "beautytable6"
   ]
  },
  {
   "cell_type": "code",
   "execution_count": 10,
   "metadata": {},
   "outputs": [
    {
     "data": {
      "text/html": [
       "<div>\n",
       "<style>\n",
       "    .dataframe thead tr:only-child th {\n",
       "        text-align: right;\n",
       "    }\n",
       "\n",
       "    .dataframe thead th {\n",
       "        text-align: left;\n",
       "    }\n",
       "\n",
       "    .dataframe tbody tr th {\n",
       "        vertical-align: top;\n",
       "    }\n",
       "</style>\n",
       "<table border=\"1\" class=\"dataframe\">\n",
       "  <thead>\n",
       "    <tr style=\"text-align: right;\">\n",
       "      <th></th>\n",
       "      <th>min</th>\n",
       "      <th>max</th>\n",
       "    </tr>\n",
       "  </thead>\n",
       "  <tbody>\n",
       "    <tr>\n",
       "      <th>0</th>\n",
       "      <td>49.000000</td>\n",
       "      <td>51.000000</td>\n",
       "    </tr>\n",
       "    <tr>\n",
       "      <th>1</th>\n",
       "      <td>32.333333</td>\n",
       "      <td>34.333333</td>\n",
       "    </tr>\n",
       "    <tr>\n",
       "      <th>2</th>\n",
       "      <td>23.444444</td>\n",
       "      <td>25.444444</td>\n",
       "    </tr>\n",
       "    <tr>\n",
       "      <th>3</th>\n",
       "      <td>18.430199</td>\n",
       "      <td>20.430199</td>\n",
       "    </tr>\n",
       "    <tr>\n",
       "      <th>4</th>\n",
       "      <td>15.511108</td>\n",
       "      <td>17.511108</td>\n",
       "    </tr>\n",
       "    <tr>\n",
       "      <th>5</th>\n",
       "      <td>13.801220</td>\n",
       "      <td>15.801220</td>\n",
       "    </tr>\n",
       "    <tr>\n",
       "      <th>6</th>\n",
       "      <td>12.819076</td>\n",
       "      <td>14.819076</td>\n",
       "    </tr>\n",
       "    <tr>\n",
       "      <th>7</th>\n",
       "      <td>12.279384</td>\n",
       "      <td>14.279384</td>\n",
       "    </tr>\n",
       "    <tr>\n",
       "      <th>8</th>\n",
       "      <td>12.279384</td>\n",
       "      <td>14.279384</td>\n",
       "    </tr>\n",
       "  </tbody>\n",
       "</table>\n",
       "</div>"
      ],
      "text/plain": [
       "         min        max\n",
       "0  49.000000  51.000000\n",
       "1  32.333333  34.333333\n",
       "2  23.444444  25.444444\n",
       "3  18.430199  20.430199\n",
       "4  15.511108  17.511108\n",
       "5  13.801220  15.801220\n",
       "6  12.819076  14.819076\n",
       "7  12.279384  14.279384\n",
       "8  12.279384  14.279384"
      ]
     },
     "execution_count": 10,
     "metadata": {},
     "output_type": "execute_result"
    }
   ],
   "source": [
    "###Creating bins around certain values\n",
    "def bins(table):\n",
    "    max= 1 +table[\"guess\"]\n",
    "    min=(-1)+table[\"guess\"]\n",
    "    minmax = [(\"min\", min),\n",
    "             (\"max\", max),\n",
    "             ]\n",
    "    table = pd.DataFrame.from_items(minmax)\n",
    "    return (table)\n",
    "\n",
    "bins1 = bins(beautytable1)\n",
    "bins15 = bins(beautytable15)\n",
    "bins2 = bins(beautytable2)\n",
    "bins25 = bins(beautytable25)\n",
    "bins3 = bins(beautytable3) #from this point the tables stop overlapping from tau=3, this makes things difficult\n",
    "bins4 = bins(beautytable4)\n",
    "bins5 = bins(beautytable5)\n",
    "bins6 = bins(beautytable6)\n",
    "bins7 = bins(beautytable7)\n",
    "bins10 = bins(beautytable10)\n",
    "\n",
    "bins4"
   ]
  },
  {
   "cell_type": "markdown",
   "metadata": {},
   "source": [
    "### Calculating the mean\n",
    "To find the proper value of tau in the data we will need to calculate the mean for different values of tau. Then we try to see what level of tau gets us the mean the closest to the one we will find in the data. "
   ]
  },
  {
   "cell_type": "code",
   "execution_count": 11,
   "metadata": {},
   "outputs": [
    {
     "name": "stdout",
     "output_type": "stream",
     "text": [
      "29.8066321847\n",
      "15.5840697363\n",
      "7.26120956071\n"
     ]
    }
   ],
   "source": [
    "def mean_Ck(tau):\n",
    "#now try to make both list into arrays to multiplicate\n",
    "    np_fraction_together = np.array(fraction_together(tau))\n",
    "    np_cognitive_level = np.array(cognitive_level(tau))\n",
    "    guess_weighted = [np_fraction_together * np_cognitive_level]\n",
    "    sum_guess = np.sum([guess_weighted])\n",
    "    return sum_guess\n",
    "print(mean_Ck(2)) # example output\n",
    "print(mean_Ck(5))\n",
    "print(mean_Ck(10))"
   ]
  },
  {
   "cell_type": "code",
   "execution_count": 12,
   "metadata": {},
   "outputs": [
    {
     "data": {
      "image/png": "[encoded data removed]",
      "text/plain": [
       "<matplotlib.figure.Figure at 0x10fc3bac8>"
      ]
     },
     "metadata": {},
     "output_type": "display_data"
    }
   ],
   "source": [
    "#a simple plot of mean values for different tau\n",
    "mean_ck_line = [mean_Ck(0.5), mean_Ck(1), mean_Ck(1.5), mean_Ck(2), mean_Ck(2.5), mean_Ck(3), mean_Ck(3.5), mean_Ck(4), mean_Ck(5), mean_Ck(6), mean_Ck(7), mean_Ck(8),mean_Ck(9),mean_Ck(10)]\n",
    "x = [0.5, 1, 1.5, 2, 2.5, 3, 3.5, 4, 5, 6, 7, 8, 9, 10]\n",
    "\n",
    "plt.plot(x, mean_ck_line)\n",
    "plt.xlabel(\"$ tau $\",fontsize = 15)      # Titling x-axis\n",
    "plt.ylabel(\"mean value\")      # Titling x-axis\n",
    "plt.title(\"Mean guess value for different tau\")\n",
    "plt.savefig(\"mean_val_tau\") \n",
    "plt.show()"
   ]
  },
  {
   "cell_type": "markdown",
   "metadata": {},
   "source": [
    "#### Correct guess"
   ]
  },
  {
   "cell_type": "code",
   "execution_count": 13,
   "metadata": {},
   "outputs": [
    {
     "name": "stdout",
     "output_type": "stream",
     "text": [
      "19.8710881231\n",
      "10.3893798242\n",
      "4.84080637381\n"
     ]
    }
   ],
   "source": [
    "def correct_Ck(tau):\n",
    "#now try to make both list into arrays to multiplicate\n",
    "    np_fraction_together = np.array(fraction_together(tau))\n",
    "    np_cognitive_level = np.array(cognitive_level(tau))\n",
    "    guess_weighted = [np_fraction_together * np_cognitive_level]\n",
    "    sum_correct_guess = np.sum([guess_weighted])\n",
    "    return 2/3*sum_correct_guess\n",
    "print(correct_Ck(2)) # example correct guesss\n",
    "print(correct_Ck(5))\n",
    "print(correct_Ck(10))"
   ]
  },
  {
   "cell_type": "code",
   "execution_count": 14,
   "metadata": {},
   "outputs": [
    {
     "data": {
      "image/png": "[encoded data removed]",
      "text/plain": [
       "<matplotlib.figure.Figure at 0x112c94e80>"
      ]
     },
     "metadata": {},
     "output_type": "display_data"
    }
   ],
   "source": [
    "#a simple plot of correct values for different tau\n",
    "correct_ck_line = [correct_Ck(0.5), correct_Ck(1), correct_Ck(1.5), correct_Ck(2), correct_Ck(2.5), correct_Ck(3), correct_Ck(3.5), correct_Ck(4), correct_Ck(5), correct_Ck(6), correct_Ck(7), correct_Ck(8),correct_Ck(9),correct_Ck(10)]\n",
    "x = [0.5, 1, 1.5, 2, 2.5, 3, 3.5, 4, 5, 6, 7, 8, 9, 10]\n",
    "\n",
    "\n",
    "plt.plot(x, correct_ck_line)\n",
    "plt.xlabel(\"$ tau $\",fontsize = 15)      # Titling x-axis\n",
    "plt.ylabel(\"mean value\")      # Titling x-axis\n",
    "plt.title(\"Correct guess value for different tau\")\n",
    "plt.savefig(\"guess_tau\") \n",
    "plt.show()"
   ]
  },
  {
   "cell_type": "code",
   "execution_count": 15,
   "metadata": {},
   "outputs": [
    {
     "data": {
      "image/png": "[encoded data removed]",
      "text/plain": [
       "<matplotlib.figure.Figure at 0x11364b2b0>"
      ]
     },
     "metadata": {},
     "output_type": "display_data"
    }
   ],
   "source": [
    "#this graphs shows the predicted proportion of people making a guess value\n",
    "plt.bar(cognitive_level(1), fraction_together(1), label=\"tau=1\") \n",
    "#plt.show()\n",
    "plt.bar(cognitive_level(2), fraction_together(2), label=\"tau=2\")\n",
    "#plt.show()\n",
    "plt.bar(cognitive_level(3), fraction_together(3), label=\"tau=3\" )\n",
    "#plt.show()\n",
    "plt.bar(cognitive_level(4), fraction_together(4), label=\"tau=4\")\n",
    "#plt.show()\n",
    "plt.bar(cognitive_level(10), fraction_together(10), label=\"tau=10\")\n",
    "plt.xlim([0,50])\n",
    "\n",
    "plt.legend()\n",
    "plt.xlabel(\"Predicted guess\")\n",
    "plt.ylabel(\"Relative abmount of population\")\n",
    "plt.title(\"The relative frequency of the predicted guesses for different cognitive levels\")\n",
    "plt.savefig('rel_freq_guess')   # Saves the model \n",
    "plt.show()"
   ]
  },
  {
   "cell_type": "markdown",
   "metadata": {},
   "source": [
    "## Data Import"
   ]
  },
  {
   "cell_type": "code",
   "execution_count": 16,
   "metadata": {
    "collapsed": true
   },
   "outputs": [],
   "source": [
    "file = \"Beautygt (accessed 2016-05-11).csv\"  #access files and read with pandas\n",
    "beauty = pd.read_csv(file, sep=\",\", header=0)"
   ]
  },
  {
   "cell_type": "code",
   "execution_count": 17,
   "metadata": {
    "collapsed": true
   },
   "outputs": [],
   "source": [
    "file2 = \"beauty2.csv\"\n",
    "beauty2 = pd.read_csv(file2, sep=\",\", header=0)"
   ]
  },
  {
   "cell_type": "code",
   "execution_count": 18,
   "metadata": {},
   "outputs": [
    {
     "data": {
      "text/html": [
       "<div>\n",
       "<style>\n",
       "    .dataframe thead tr:only-child th {\n",
       "        text-align: right;\n",
       "    }\n",
       "\n",
       "    .dataframe thead th {\n",
       "        text-align: left;\n",
       "    }\n",
       "\n",
       "    .dataframe tbody tr th {\n",
       "        vertical-align: top;\n",
       "    }\n",
       "</style>\n",
       "<table border=\"1\" class=\"dataframe\">\n",
       "  <thead>\n",
       "    <tr style=\"text-align: right;\">\n",
       "      <th></th>\n",
       "      <th>Pair_guess_value</th>\n",
       "      <th>Individual_guess_value</th>\n",
       "    </tr>\n",
       "  </thead>\n",
       "  <tbody>\n",
       "    <tr>\n",
       "      <th>0</th>\n",
       "      <td>27.0</td>\n",
       "      <td>86.0</td>\n",
       "    </tr>\n",
       "    <tr>\n",
       "      <th>1</th>\n",
       "      <td>67.0</td>\n",
       "      <td>100.0</td>\n",
       "    </tr>\n",
       "    <tr>\n",
       "      <th>2</th>\n",
       "      <td>6.0</td>\n",
       "      <td>6.0</td>\n",
       "    </tr>\n",
       "    <tr>\n",
       "      <th>3</th>\n",
       "      <td>18.0</td>\n",
       "      <td>3.0</td>\n",
       "    </tr>\n",
       "    <tr>\n",
       "      <th>4</th>\n",
       "      <td>86.0</td>\n",
       "      <td>2.0</td>\n",
       "    </tr>\n",
       "    <tr>\n",
       "      <th>5</th>\n",
       "      <td>35.0</td>\n",
       "      <td>2.7</td>\n",
       "    </tr>\n",
       "    <tr>\n",
       "      <th>6</th>\n",
       "      <td>13.0</td>\n",
       "      <td>19.0</td>\n",
       "    </tr>\n",
       "    <tr>\n",
       "      <th>7</th>\n",
       "      <td>27.0</td>\n",
       "      <td>16.0</td>\n",
       "    </tr>\n",
       "    <tr>\n",
       "      <th>8</th>\n",
       "      <td>45.0</td>\n",
       "      <td>16.0</td>\n",
       "    </tr>\n",
       "    <tr>\n",
       "      <th>9</th>\n",
       "      <td>44.0</td>\n",
       "      <td>1.0</td>\n",
       "    </tr>\n",
       "    <tr>\n",
       "      <th>10</th>\n",
       "      <td>12.0</td>\n",
       "      <td>16.0</td>\n",
       "    </tr>\n",
       "    <tr>\n",
       "      <th>11</th>\n",
       "      <td>1.0</td>\n",
       "      <td>18.0</td>\n",
       "    </tr>\n",
       "    <tr>\n",
       "      <th>12</th>\n",
       "      <td>11.0</td>\n",
       "      <td>16.0</td>\n",
       "    </tr>\n",
       "    <tr>\n",
       "      <th>13</th>\n",
       "      <td>5.0</td>\n",
       "      <td>57.0</td>\n",
       "    </tr>\n",
       "    <tr>\n",
       "      <th>14</th>\n",
       "      <td>1.0</td>\n",
       "      <td>53.0</td>\n",
       "    </tr>\n",
       "    <tr>\n",
       "      <th>15</th>\n",
       "      <td>45.0</td>\n",
       "      <td>57.0</td>\n",
       "    </tr>\n",
       "    <tr>\n",
       "      <th>16</th>\n",
       "      <td>0.0</td>\n",
       "      <td>50.0</td>\n",
       "    </tr>\n",
       "    <tr>\n",
       "      <th>17</th>\n",
       "      <td>25.0</td>\n",
       "      <td>49.0</td>\n",
       "    </tr>\n",
       "    <tr>\n",
       "      <th>18</th>\n",
       "      <td>13.0</td>\n",
       "      <td>43.0</td>\n",
       "    </tr>\n",
       "    <tr>\n",
       "      <th>19</th>\n",
       "      <td>56.0</td>\n",
       "      <td>49.0</td>\n",
       "    </tr>\n",
       "    <tr>\n",
       "      <th>20</th>\n",
       "      <td>9.0</td>\n",
       "      <td>45.0</td>\n",
       "    </tr>\n",
       "    <tr>\n",
       "      <th>21</th>\n",
       "      <td>47.0</td>\n",
       "      <td>47.0</td>\n",
       "    </tr>\n",
       "    <tr>\n",
       "      <th>22</th>\n",
       "      <td>78.0</td>\n",
       "      <td>40.0</td>\n",
       "    </tr>\n",
       "    <tr>\n",
       "      <th>23</th>\n",
       "      <td>31.0</td>\n",
       "      <td>44.0</td>\n",
       "    </tr>\n",
       "    <tr>\n",
       "      <th>24</th>\n",
       "      <td>24.0</td>\n",
       "      <td>45.0</td>\n",
       "    </tr>\n",
       "    <tr>\n",
       "      <th>25</th>\n",
       "      <td>36.0</td>\n",
       "      <td>66.0</td>\n",
       "    </tr>\n",
       "    <tr>\n",
       "      <th>26</th>\n",
       "      <td>54.0</td>\n",
       "      <td>33.0</td>\n",
       "    </tr>\n",
       "    <tr>\n",
       "      <th>27</th>\n",
       "      <td>5.0</td>\n",
       "      <td>33.0</td>\n",
       "    </tr>\n",
       "    <tr>\n",
       "      <th>28</th>\n",
       "      <td>0.0</td>\n",
       "      <td>34.0</td>\n",
       "    </tr>\n",
       "    <tr>\n",
       "      <th>29</th>\n",
       "      <td>7.0</td>\n",
       "      <td>37.0</td>\n",
       "    </tr>\n",
       "    <tr>\n",
       "      <th>30</th>\n",
       "      <td>66.0</td>\n",
       "      <td>37.0</td>\n",
       "    </tr>\n",
       "    <tr>\n",
       "      <th>31</th>\n",
       "      <td>39.0</td>\n",
       "      <td>35.0</td>\n",
       "    </tr>\n",
       "    <tr>\n",
       "      <th>32</th>\n",
       "      <td>23.0</td>\n",
       "      <td>32.0</td>\n",
       "    </tr>\n",
       "    <tr>\n",
       "      <th>33</th>\n",
       "      <td>15.0</td>\n",
       "      <td>33.0</td>\n",
       "    </tr>\n",
       "    <tr>\n",
       "      <th>34</th>\n",
       "      <td>77.0</td>\n",
       "      <td>37.0</td>\n",
       "    </tr>\n",
       "    <tr>\n",
       "      <th>35</th>\n",
       "      <td>44.0</td>\n",
       "      <td>30.0</td>\n",
       "    </tr>\n",
       "    <tr>\n",
       "      <th>36</th>\n",
       "      <td>41.0</td>\n",
       "      <td>35.0</td>\n",
       "    </tr>\n",
       "    <tr>\n",
       "      <th>37</th>\n",
       "      <td>77.0</td>\n",
       "      <td>30.0</td>\n",
       "    </tr>\n",
       "    <tr>\n",
       "      <th>38</th>\n",
       "      <td>32.0</td>\n",
       "      <td>69.0</td>\n",
       "    </tr>\n",
       "    <tr>\n",
       "      <th>39</th>\n",
       "      <td>77.0</td>\n",
       "      <td>63.0</td>\n",
       "    </tr>\n",
       "    <tr>\n",
       "      <th>40</th>\n",
       "      <td>50.0</td>\n",
       "      <td>77.0</td>\n",
       "    </tr>\n",
       "    <tr>\n",
       "      <th>41</th>\n",
       "      <td>19.0</td>\n",
       "      <td>67.0</td>\n",
       "    </tr>\n",
       "    <tr>\n",
       "      <th>42</th>\n",
       "      <td>37.0</td>\n",
       "      <td>78.0</td>\n",
       "    </tr>\n",
       "    <tr>\n",
       "      <th>43</th>\n",
       "      <td>5.0</td>\n",
       "      <td>78.0</td>\n",
       "    </tr>\n",
       "    <tr>\n",
       "      <th>44</th>\n",
       "      <td>44.0</td>\n",
       "      <td>22.0</td>\n",
       "    </tr>\n",
       "    <tr>\n",
       "      <th>45</th>\n",
       "      <td>25.0</td>\n",
       "      <td>29.0</td>\n",
       "    </tr>\n",
       "    <tr>\n",
       "      <th>46</th>\n",
       "      <td>28.0</td>\n",
       "      <td>23.0</td>\n",
       "    </tr>\n",
       "    <tr>\n",
       "      <th>47</th>\n",
       "      <td>15.0</td>\n",
       "      <td>25.0</td>\n",
       "    </tr>\n",
       "    <tr>\n",
       "      <th>48</th>\n",
       "      <td>32.0</td>\n",
       "      <td>25.0</td>\n",
       "    </tr>\n",
       "    <tr>\n",
       "      <th>49</th>\n",
       "      <td>9.0</td>\n",
       "      <td>29.0</td>\n",
       "    </tr>\n",
       "    <tr>\n",
       "      <th>50</th>\n",
       "      <td>18.0</td>\n",
       "      <td>22.0</td>\n",
       "    </tr>\n",
       "    <tr>\n",
       "      <th>51</th>\n",
       "      <td>0.0</td>\n",
       "      <td>23.0</td>\n",
       "    </tr>\n",
       "    <tr>\n",
       "      <th>52</th>\n",
       "      <td>0.0</td>\n",
       "      <td>25.0</td>\n",
       "    </tr>\n",
       "    <tr>\n",
       "      <th>53</th>\n",
       "      <td>0.0</td>\n",
       "      <td>28.0</td>\n",
       "    </tr>\n",
       "    <tr>\n",
       "      <th>54</th>\n",
       "      <td>NaN</td>\n",
       "      <td>28.0</td>\n",
       "    </tr>\n",
       "    <tr>\n",
       "      <th>55</th>\n",
       "      <td>NaN</td>\n",
       "      <td>27.0</td>\n",
       "    </tr>\n",
       "  </tbody>\n",
       "</table>\n",
       "</div>"
      ],
      "text/plain": [
       "    Pair_guess_value  Individual_guess_value\n",
       "0               27.0                    86.0\n",
       "1               67.0                   100.0\n",
       "2                6.0                     6.0\n",
       "3               18.0                     3.0\n",
       "4               86.0                     2.0\n",
       "5               35.0                     2.7\n",
       "6               13.0                    19.0\n",
       "7               27.0                    16.0\n",
       "8               45.0                    16.0\n",
       "9               44.0                     1.0\n",
       "10              12.0                    16.0\n",
       "11               1.0                    18.0\n",
       "12              11.0                    16.0\n",
       "13               5.0                    57.0\n",
       "14               1.0                    53.0\n",
       "15              45.0                    57.0\n",
       "16               0.0                    50.0\n",
       "17              25.0                    49.0\n",
       "18              13.0                    43.0\n",
       "19              56.0                    49.0\n",
       "20               9.0                    45.0\n",
       "21              47.0                    47.0\n",
       "22              78.0                    40.0\n",
       "23              31.0                    44.0\n",
       "24              24.0                    45.0\n",
       "25              36.0                    66.0\n",
       "26              54.0                    33.0\n",
       "27               5.0                    33.0\n",
       "28               0.0                    34.0\n",
       "29               7.0                    37.0\n",
       "30              66.0                    37.0\n",
       "31              39.0                    35.0\n",
       "32              23.0                    32.0\n",
       "33              15.0                    33.0\n",
       "34              77.0                    37.0\n",
       "35              44.0                    30.0\n",
       "36              41.0                    35.0\n",
       "37              77.0                    30.0\n",
       "38              32.0                    69.0\n",
       "39              77.0                    63.0\n",
       "40              50.0                    77.0\n",
       "41              19.0                    67.0\n",
       "42              37.0                    78.0\n",
       "43               5.0                    78.0\n",
       "44              44.0                    22.0\n",
       "45              25.0                    29.0\n",
       "46              28.0                    23.0\n",
       "47              15.0                    25.0\n",
       "48              32.0                    25.0\n",
       "49               9.0                    29.0\n",
       "50              18.0                    22.0\n",
       "51               0.0                    23.0\n",
       "52               0.0                    25.0\n",
       "53               0.0                    28.0\n",
       "54               NaN                    28.0\n",
       "55               NaN                    27.0"
      ]
     },
     "execution_count": 18,
     "metadata": {},
     "output_type": "execute_result"
    }
   ],
   "source": [
    "beauty_choice1 = beauty.iloc[:, [21]] #locate the columns that contain the values of the guesses.\n",
    "beauty_choice2 = beauty2.iloc[:,[0]]\n",
    "beauty_choice_all = pd.concat([beauty_choice1, beauty_choice2], axis=1) #cut out the columns\n",
    "beauty_choice_all = beauty_choice_all.rename(columns={'Player.guess_value':'Pair_guess_value', 'beauty_paper': 'Individual_guess_value'})\n",
    "beauty_choice_all #so it shows the game info"
   ]
  },
  {
   "cell_type": "code",
   "execution_count": 19,
   "metadata": {},
   "outputs": [
    {
     "data": {
      "text/plain": [
       "Individual_guess_value    56\n",
       "dtype: int64"
      ]
     },
     "execution_count": 19,
     "metadata": {},
     "output_type": "execute_result"
    }
   ],
   "source": [
    "individual_count=pd.DataFrame.count(beauty_choice_all.iloc[:,[1]]) #count the amount of observations per info set\n",
    "pair_count=pd.DataFrame.count(beauty_choice_all.iloc[:,[0]])\n",
    "individual_count\n"
   ]
  },
  {
   "cell_type": "code",
   "execution_count": 19,
   "metadata": {},
   "outputs": [
    {
     "name": "stdout",
     "output_type": "stream",
     "text": [
      "Pair_guess_value    19.765432\n",
      "dtype: float64 Individual_guess_value    24.889286\n",
      "dtype: float64\n"
     ]
    }
   ],
   "source": [
    "def correct_guess(game, x=2/3):\n",
    "    #Correct guess of x-beauty contest game\n",
    "    beauty_choice_game=beauty_choice_all.iloc[:,[game-1]]\n",
    "    mean = beauty_choice_game.mean(axis=None, skipna=None, level=None, numeric_only=None)\n",
    "    correct = mean * x\n",
    "    return correct\n",
    "\n",
    "pair_experiment_correct = correct_guess(1)\n",
    "class_experiment_correct = correct_guess(2)\n",
    "print(pair_experiment_correct, class_experiment_correct) #prints the correct value of the guesses"
   ]
  },
  {
   "cell_type": "code",
   "execution_count": 20,
   "metadata": {
    "scrolled": true
   },
   "outputs": [
    {
     "data": {
      "image/png": "[encoded data removed]",
      "text/plain": [
       "<matplotlib.figure.Figure at 0x1159d7550>"
      ]
     },
     "metadata": {},
     "output_type": "display_data"
    }
   ],
   "source": [
    "#simple bar plot of the data\n",
    "bins = [-1, 4, 9, 14, 19, 24, 29, 34, 39, 44, 49, 54, 59, 64, 69, 74, 79, 84, 89, 94, 100]\n",
    "bins_names = [\"0-4\", \"05-9\", \"10-14\", \"15-19\", \"20-24\", \"25-29\", \"30-34\", \"35-39\", \"40-44\", \"45-49\", \"50-54\", \"55-59\", \"60-64\", \"65-69\", \"70-74\", \"75-79\", \"80-84\", \"85-89\", \"90-94\", \"95-100\"]\n",
    "groups = pd.cut(beauty_choice_all[\"Pair_guess_value\"],bins, labels=bins_names)\n",
    "groups.value_counts(normalize=True,sort=False).plot(kind = \"bar\")\n",
    "xlab = 'Guess'\n",
    "ylab = 'Proportion of subjects'\n",
    "plt.xlabel(xlab)\n",
    "plt.ylabel(ylab)\n",
    "plt.title(\"Distribution of guesses for Pair_guess_value\")\n",
    "plt.savefig(\"Guess_distr_pair\")\n",
    "plt.show()"
   ]
  },
  {
   "cell_type": "code",
   "execution_count": 21,
   "metadata": {},
   "outputs": [
    {
     "data": {
      "image/png": "[encoded data removed]",
      "text/plain": [
       "<matplotlib.figure.Figure at 0x11594e518>"
      ]
     },
     "metadata": {},
     "output_type": "display_data"
    }
   ],
   "source": [
    "#Again a barplot but now for the individual guess values\n",
    "bins = [-1, 4, 9, 14, 19, 24, 29, 34, 39, 44, 49, 54, 59, 64, 69, 74, 79, 84, 89, 94, 100]\n",
    "bins_names = [\"0-4\", \"05-9\", \"10-14\", \"15-19\", \"20-24\", \"25-29\", \"30-34\", \"35-39\", \"40-44\", \"45-49\", \"50-54\", \"55-59\", \"60-64\", \"65-69\", \"70-74\", \"75-79\", \"80-84\", \"85-89\", \"90-94\", \"95-100\"]\n",
    "groups = pd.cut(beauty_choice_all[\"Individual_guess_value\"],bins, labels=bins_names)\n",
    "groups.value_counts(normalize=True,sort=False).plot(kind = \"bar\")\n",
    "xlab = 'Guess'\n",
    "ylab = 'Proportion of subjects'\n",
    "plt.xlabel(xlab)\n",
    "plt.ylabel(ylab)\n",
    "plt.title(\"Guess_Distr\")\n",
    "plt.savefig(\"\")\n",
    "plt.show()"
   ]
  },
  {
   "cell_type": "code",
   "execution_count": 22,
   "metadata": {
    "scrolled": true
   },
   "outputs": [
    {
     "data": {
      "text/html": [
       "<div>\n",
       "<style>\n",
       "    .dataframe thead tr:only-child th {\n",
       "        text-align: right;\n",
       "    }\n",
       "\n",
       "    .dataframe thead th {\n",
       "        text-align: left;\n",
       "    }\n",
       "\n",
       "    .dataframe tbody tr th {\n",
       "        vertical-align: top;\n",
       "    }\n",
       "</style>\n",
       "<table border=\"1\" class=\"dataframe\">\n",
       "  <thead>\n",
       "    <tr style=\"text-align: right;\">\n",
       "      <th></th>\n",
       "      <th>tau=1</th>\n",
       "      <th>tau=1.5</th>\n",
       "      <th>tau=2</th>\n",
       "      <th>tau=2.5</th>\n",
       "      <th>tau=3</th>\n",
       "    </tr>\n",
       "  </thead>\n",
       "  <tbody>\n",
       "    <tr>\n",
       "      <th>C-1</th>\n",
       "      <td>4</td>\n",
       "      <td>4</td>\n",
       "      <td>4</td>\n",
       "      <td>4</td>\n",
       "      <td>4</td>\n",
       "    </tr>\n",
       "    <tr>\n",
       "      <th>C-2</th>\n",
       "      <td>3</td>\n",
       "      <td>1</td>\n",
       "      <td>3</td>\n",
       "      <td>3</td>\n",
       "      <td>3</td>\n",
       "    </tr>\n",
       "    <tr>\n",
       "      <th>C-3+</th>\n",
       "      <td>3</td>\n",
       "      <td>4</td>\n",
       "      <td>5</td>\n",
       "      <td>4</td>\n",
       "      <td>6</td>\n",
       "    </tr>\n",
       "  </tbody>\n",
       "</table>\n",
       "</div>"
      ],
      "text/plain": [
       "      tau=1  tau=1.5  tau=2  tau=2.5  tau=3\n",
       "C-1       4        4      4        4      4\n",
       "C-2       3        1      3        3      3\n",
       "C-3+      3        4      5        4      6"
      ]
     },
     "execution_count": 22,
     "metadata": {},
     "output_type": "execute_result"
    }
   ],
   "source": [
    "#here the table is created that gives the amount of people matching with the predicted bins\n",
    "def match_table(game):\n",
    "    def bins(game, type_of_bins):\n",
    "        def belongs_to_bin(game,mini,maxi):\n",
    "            belongs = beauty_choice_all[game]\n",
    "            between = np.logical_and(belongs>mini,belongs<maxi)\n",
    "            return between\n",
    "        binC1=belongs_to_bin(game, type_of_bins.iloc[1,0],type_of_bins.iloc[1,1])\n",
    "        binC2=belongs_to_bin(game, type_of_bins.iloc[2,0],type_of_bins.iloc[2,1])\n",
    "        binC3=belongs_to_bin(game, type_of_bins.iloc[8,0],type_of_bins.iloc[3,1])\n",
    "        frequencies = (sum(binC1), sum(binC2),sum(binC3))\n",
    "        frequencies = list(frequencies)\n",
    "        return frequencies\n",
    "    frequencies1=bins(game, bins1)\n",
    "    frequencies15=bins(game, bins15)\n",
    "    frequencies2=bins(game, bins2)\n",
    "    frequencies25=bins(game, bins25)\n",
    "    frequencies3=bins(game, bins3)\n",
    "    table=pd.DataFrame(np.column_stack([frequencies1,frequencies15,frequencies2,frequencies25,frequencies3]), columns=[\"tau=1\",\"tau=1.5\",\"tau=2\",\"tau=2.5\", \"tau=3\"], index=[\"C-1\", \"C-2\", \"C-3+\"])\n",
    "    return table\n",
    "\n",
    "individual=match_table(\"Individual_guess_value\")\n",
    "individual"
   ]
  },
  {
   "cell_type": "code",
   "execution_count": 23,
   "metadata": {},
   "outputs": [
    {
     "data": {
      "text/html": [
       "<div>\n",
       "<style>\n",
       "    .dataframe thead tr:only-child th {\n",
       "        text-align: right;\n",
       "    }\n",
       "\n",
       "    .dataframe thead th {\n",
       "        text-align: left;\n",
       "    }\n",
       "\n",
       "    .dataframe tbody tr th {\n",
       "        vertical-align: top;\n",
       "    }\n",
       "</style>\n",
       "<table border=\"1\" class=\"dataframe\">\n",
       "  <thead>\n",
       "    <tr style=\"text-align: right;\">\n",
       "      <th></th>\n",
       "      <th>tau=1</th>\n",
       "      <th>tau=1.5</th>\n",
       "      <th>tau=2</th>\n",
       "      <th>tau=2.5</th>\n",
       "      <th>tau=3</th>\n",
       "    </tr>\n",
       "  </thead>\n",
       "  <tbody>\n",
       "    <tr>\n",
       "      <th>C-1</th>\n",
       "      <td>0</td>\n",
       "      <td>0</td>\n",
       "      <td>0</td>\n",
       "      <td>0</td>\n",
       "      <td>0</td>\n",
       "    </tr>\n",
       "    <tr>\n",
       "      <th>C-2</th>\n",
       "      <td>3</td>\n",
       "      <td>2</td>\n",
       "      <td>2</td>\n",
       "      <td>2</td>\n",
       "      <td>2</td>\n",
       "    </tr>\n",
       "    <tr>\n",
       "      <th>C-3+</th>\n",
       "      <td>2</td>\n",
       "      <td>2</td>\n",
       "      <td>2</td>\n",
       "      <td>3</td>\n",
       "      <td>3</td>\n",
       "    </tr>\n",
       "  </tbody>\n",
       "</table>\n",
       "</div>"
      ],
      "text/plain": [
       "      tau=1  tau=1.5  tau=2  tau=2.5  tau=3\n",
       "C-1       0        0      0        0      0\n",
       "C-2       3        2      2        2      2\n",
       "C-3+      2        2      2        3      3"
      ]
     },
     "execution_count": 23,
     "metadata": {},
     "output_type": "execute_result"
    }
   ],
   "source": [
    "#the table for \"Pair_guess_value\", from the definition created above\n",
    "pair=match_table(\"Pair_guess_value\")\n",
    "pair"
   ]
  },
  {
   "cell_type": "markdown",
   "metadata": {
    "collapsed": true
   },
   "source": [
    "## Chi 2 test for individual samples and predicted values. \n"
   ]
  },
  {
   "cell_type": "markdown",
   "metadata": {},
   "source": [
    "#### Create multiple predictions in fractions for test"
   ]
  },
  {
   "cell_type": "code",
   "execution_count": 24,
   "metadata": {
    "collapsed": true
   },
   "outputs": [],
   "source": [
    "def expected(frac,counts): \n",
    "    exp_obs_array = frac*np.asarray(counts) #number of expected observations per bin for pair game (predicted)\n",
    "    return exp_obs_array\n",
    "\n",
    "exp_obs_array_1=expected(np.asarray(fraction_together(1)),pair_count) #creation of arrays for the statistical tests\n",
    "exp_obs_array_2=expected(np.asarray(fraction_together(2)),pair_count)\n",
    "exp_obs_array_3=expected(np.asarray(fraction_together(3)),pair_count)\n",
    "exp_obs_array_4=expected(np.asarray(fraction_together(4)),pair_count)\n",
    "exp_obs_array_5=expected(np.asarray(fraction_together(5)),pair_count)\n",
    "exp_obs_array_1i=expected(np.asarray(fraction_together(1)),individual_count)\n",
    "exp_obs_array_2i=expected(np.asarray(fraction_together(2)),individual_count)\n",
    "exp_obs_array_3i=expected(np.asarray(fraction_together(3)),individual_count)\n",
    "exp_obs_array_4i=expected(np.asarray(fraction_together(4)),individual_count)\n",
    "exp_obs_array_5i=expected(np.asarray(fraction_together(5)),individual_count)"
   ]
  },
  {
   "cell_type": "markdown",
   "metadata": {},
   "source": [
    "To show that it doesn't mattter if one includes all expected observations in the bin c-3 to c-k, we'll print the value of the bins from l-1 to c-3 and the left overs (c-3 to c-k). Later we will see that no matter if one includes these values the observed values (until tau-3) do significantly differ from the predicted observations in both games. The leftover prediction is subsequently printed for the individual games. "
   ]
  },
  {
   "cell_type": "code",
   "execution_count": 25,
   "metadata": {},
   "outputs": [
    {
     "name": "stdout",
     "output_type": "stream",
     "text": [
      "[4.2559740447838958]\n",
      "[30.570925700277293]\n",
      "[46.393442967396687]\n",
      "[ 19.49761038   9.74880519   3.24960173]\n",
      "[  7.91614387  11.87421581  11.87421581]\n"
     ]
    }
   ],
   "source": [
    "#sum of observations from c-3 to c-k\n",
    "exp_obs_array_1_end = [sum(exp_obs_array_1[3:9])]\n",
    "exp_obs_array_3_end = [sum(exp_obs_array_3[3:9])]\n",
    "exp_obs_array_5_end = [sum(exp_obs_array_5[3:9])]\n",
    "print(exp_obs_array_1_end) #sum of observations from k=3 to k=8 for tau=1\n",
    "print(exp_obs_array_3_end) #tau=3\n",
    "print(exp_obs_array_5_end)\n",
    "\n",
    "print(exp_obs_array_1[1:4]) #the expected amount of observations for level-1 to C-3\n",
    "print(exp_obs_array_3[1:4])"
   ]
  },
  {
   "cell_type": "code",
   "execution_count": 26,
   "metadata": {},
   "outputs": [
    {
     "name": "stdout",
     "output_type": "stream",
     "text": [
      "[4.4165768389266846]\n",
      "[31.724545538023605]\n",
      "[48.144138928430536]\n",
      "[ 20.23336926  10.11668463   3.37222821]\n",
      "[  8.21486628  12.32229942  12.32229942]\n"
     ]
    }
   ],
   "source": [
    "#sum of observations from c-3 to c-k in individual games\n",
    "exp_obs_array_1i_end = [sum(exp_obs_array_1i[3:9])]\n",
    "exp_obs_array_3i_end = [sum(exp_obs_array_3i[3:9])]\n",
    "exp_obs_array_5i_end = [sum(exp_obs_array_5i[3:9])]\n",
    "print(exp_obs_array_1i_end) #sum of observations from k=3 to k=8 for tau=1\n",
    "print(exp_obs_array_3i_end) #tau=3\n",
    "print(exp_obs_array_5i_end)\n",
    "\n",
    "print(exp_obs_array_1i[1:4]) #the expected amount of observations for level-1 to C-3,\n",
    "print(exp_obs_array_3i[1:4])"
   ]
  },
  {
   "cell_type": "markdown",
   "metadata": {},
   "source": [
    "### Pair values \n",
    "We can already see that the people in the right bin for levels c-3+ is very different in reality than the actual found values. Secondly we also see that even with higher taus it is not likely that the results will match the theory for the Pair\"guess Value case\"."
   ]
  },
  {
   "cell_type": "code",
   "execution_count": 27,
   "metadata": {},
   "outputs": [
    {
     "name": "stdout",
     "output_type": "stream",
     "text": [
      "[[0 0 0 0 0]\n",
      " [3 2 2 2 2]\n",
      " [2 2 2 3 3]]\n",
      "      tau=1  tau=1.5  tau=2  tau=2.5  tau=3\n",
      "C-1       0        0      0        0      0\n",
      "C-2       3        2      2        2      2\n",
      "C-3+      2        2      2        3      3\n"
     ]
    }
   ],
   "source": [
    "#this shows how the array is formed for the chi2 test. With arrays you can select columns to be used. \n",
    "match_table_pair_array = np.asarray(match_table(\"Pair_guess_value\"))\n",
    "print(match_table_pair_array)\n",
    "print(match_table(\"Pair_guess_value\"))"
   ]
  },
  {
   "cell_type": "code",
   "execution_count": 28,
   "metadata": {},
   "outputs": [
    {
     "data": {
      "text/plain": [
       "array([0, 3, 2])"
      ]
     },
     "execution_count": 28,
     "metadata": {},
     "output_type": "execute_result"
    }
   ],
   "source": [
    "match_table_pair_array[:,0] #check if the indexing is ok"
   ]
  },
  {
   "cell_type": "code",
   "execution_count": 29,
   "metadata": {},
   "outputs": [
    {
     "name": "stdout",
     "output_type": "stream",
     "text": [
      "Power_divergenceResult(statistic=24.65012743169023, pvalue=4.4390786432069989e-06)\n",
      "Power_divergenceResult(statistic=22.759384622428719, pvalue=1.1425163492572987e-05)\n"
     ]
    }
   ],
   "source": [
    "#match_table_pair_array[:,0], indicates that we use column 0 of the array. These are the found observations for tau=1\n",
    "#we do untill tau\n",
    "print(scipy.stats.chisquare(match_table_pair_array[:,0], exp_obs_array_1[1:4], ddof=0, axis=0)) #column 1 result\n",
    "print(scipy.stats.chisquare(match_table_pair_array[:,4], exp_obs_array_3[1:4], ddof=0, axis=0)) #column 3, tau=3 result\n"
   ]
  },
  {
   "cell_type": "code",
   "execution_count": 30,
   "metadata": {},
   "outputs": [
    {
     "name": "stdout",
     "output_type": "stream",
     "text": [
      "Power_divergenceResult(statistic=nan, pvalue=nan)\n"
     ]
    },
    {
     "name": "stderr",
     "output_type": "stream",
     "text": [
      "/Users/kallesolvsteen/anaconda/lib/python3.6/site-packages/scipy/stats/stats.py:4544: RuntimeWarning: invalid value encountered in true_divide\n",
      "  terms = (f_obs - f_exp)**2 / f_exp\n"
     ]
    }
   ],
   "source": [
    "print(scipy.stats.chisquare(match_table_pair_array[:,0], match_table_pair_array[:,2], ddof=0, axis=0)) \n",
    "#chisquare test within pair results\n",
    "#will not work since we're dealing with a 0 value"
   ]
  },
  {
   "cell_type": "markdown",
   "metadata": {},
   "source": [
    "We see that we can't properly compare within the table, but it is clear that there is no statistical difference between the counts in the bins for different tau. "
   ]
  },
  {
   "cell_type": "markdown",
   "metadata": {},
   "source": [
    "### Individual values "
   ]
  },
  {
   "cell_type": "code",
   "execution_count": 31,
   "metadata": {},
   "outputs": [
    {
     "name": "stdout",
     "output_type": "stream",
     "text": [
      "[[4 4 4 4 4]\n",
      " [3 1 3 3 3]\n",
      " [3 4 5 4 6]]\n",
      "      tau=1  tau=1.5  tau=2  tau=2.5  tau=3\n",
      "C-1       4        4      4        4      4\n",
      "C-2       3        1      3        3      3\n",
      "C-3+      3        4      5        4      6\n"
     ]
    }
   ],
   "source": [
    "#this shows how the array is formed for the chi2 test. With arrays you can select columns to be used. \n",
    "match_table_individual_array = np.asarray(match_table(\"Individual_guess_value\"))\n",
    "print(match_table_individual_array)\n",
    "print(match_table(\"Individual_guess_value\"))"
   ]
  },
  {
   "cell_type": "code",
   "execution_count": 32,
   "metadata": {},
   "outputs": [
    {
     "name": "stdout",
     "output_type": "stream",
     "text": [
      "Power_divergenceResult(statistic=17.009390905447141, pvalue=0.00020251523235842897)\n",
      "Power_divergenceResult(statistic=11.47548553521073, pvalue=0.0032220329503445349)\n"
     ]
    }
   ],
   "source": [
    "print(scipy.stats.chisquare(match_table_individual_array[:,0], exp_obs_array_1[1:4], ddof=0, axis=0)) #tau=1\n",
    "\n",
    "print(scipy.stats.chisquare(match_table_individual_array[:,4], exp_obs_array_3[1:4], ddof=0, axis=0)) #tau=3\n"
   ]
  },
  {
   "cell_type": "markdown",
   "metadata": {},
   "source": [
    "We see that there is no significant match with the predicted values, even without summing up the people predicted to be in bins from c-4 to c-k"
   ]
  },
  {
   "cell_type": "markdown",
   "metadata": {},
   "source": [
    "### Within comparison between individual and pairs"
   ]
  },
  {
   "cell_type": "code",
   "execution_count": 33,
   "metadata": {},
   "outputs": [
    {
     "name": "stdout",
     "output_type": "stream",
     "text": [
      "Power_divergenceResult(statistic=4.333333333333333, pvalue=0.11455884399268772)\n",
      "Power_divergenceResult(statistic=5.833333333333333, pvalue=0.054113766222821609)\n"
     ]
    }
   ],
   "source": [
    "print(scipy.stats.chisquare(match_table_pair_array[:,0], match_table_individual_array[:,0], ddof=0, axis=0)) #tau=1\n",
    "\n",
    "print(scipy.stats.chisquare(match_table_pair_array[:,4], match_table_individual_array[:,4], ddof=0, axis=0)) #tau=3"
   ]
  },
  {
   "cell_type": "markdown",
   "metadata": {},
   "source": [
    "For *tau=3* it seems that there is a significant difference at the 10% between the two (pairs&individuals). "
   ]
  }
 ],
 "metadata": {
  "kernelspec": {
   "display_name": "Python 3",
   "language": "python",
   "name": "python3"
  },
  "language_info": {
   "codemirror_mode": {
    "name": "ipython",
    "version": 3
   },
   "file_extension": ".py",
   "mimetype": "text/x-python",
   "name": "python",
   "nbconvert_exporter": "python",
   "pygments_lexer": "ipython3",
   "version": "3.6.1"
  }
 },
 "nbformat": 4,
 "nbformat_minor": 2
}
